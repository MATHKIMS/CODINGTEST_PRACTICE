{
  "nbformat": 4,
  "nbformat_minor": 0,
  "metadata": {
    "colab": {
      "provenance": [],
      "authorship_tag": "ABX9TyMeG5ld6un7XOrXNkM5X8Lk",
      "include_colab_link": true
    },
    "kernelspec": {
      "name": "python3",
      "display_name": "Python 3"
    },
    "language_info": {
      "name": "python"
    }
  },
  "cells": [
    {
      "cell_type": "markdown",
      "metadata": {
        "id": "view-in-github",
        "colab_type": "text"
      },
      "source": [
        "<a href=\"https://colab.research.google.com/github/MATHKIMS/CODINGTEST_PRACTICE/blob/main/230324_%EB%B0%B1%EC%A4%80.ipynb\" target=\"_parent\"><img src=\"https://colab.research.google.com/assets/colab-badge.svg\" alt=\"Open In Colab\"/></a>"
      ]
    },
    {
      "cell_type": "markdown",
      "source": [
        "[문제] 10998번\n",
        "\n",
        "두 정수 A와 B를 입력받은 다음, A×B를 출력하는 프로그램을 작성하시오."
      ],
      "metadata": {
        "id": "sbVgx-7cjiVv"
      }
    },
    {
      "cell_type": "code",
      "execution_count": 2,
      "metadata": {
        "id": "Mg56d_awje0C"
      },
      "outputs": [],
      "source": [
        "def solution(A,B):\n",
        "    answer=0\n",
        "    answer=A*B\n",
        "    return answer"
      ]
    },
    {
      "cell_type": "code",
      "source": [
        "solution(2,3)"
      ],
      "metadata": {
        "colab": {
          "base_uri": "https://localhost:8080/"
        },
        "id": "a844P85FjzeN",
        "outputId": "d15f6b69-5e56-4186-ce15-5615ea1faf26"
      },
      "execution_count": 3,
      "outputs": [
        {
          "output_type": "execute_result",
          "data": {
            "text/plain": [
              "6"
            ]
          },
          "metadata": {},
          "execution_count": 3
        }
      ]
    },
    {
      "cell_type": "markdown",
      "source": [],
      "metadata": {
        "id": "kT9_P-SFl1aV"
      }
    },
    {
      "cell_type": "code",
      "source": [
        "i=input(\"두 수를 입력:\")\n",
        "print(int(i[0])*int(i[2]))"
      ],
      "metadata": {
        "colab": {
          "base_uri": "https://localhost:8080/"
        },
        "id": "4TSpBPVMkYjq",
        "outputId": "f7f93349-4fa2-4061-b9d0-932a09f67011"
      },
      "execution_count": 10,
      "outputs": [
        {
          "output_type": "stream",
          "name": "stdout",
          "text": [
            "두 수를 입력:1,2\n",
            "2\n"
          ]
        }
      ]
    },
    {
      "cell_type": "code",
      "source": [
        "A,B = input().split()\n",
        "print(int(A)*int(B))"
      ],
      "metadata": {
        "id": "C7uOOiwWk8xg"
      },
      "execution_count": null,
      "outputs": []
    },
    {
      "cell_type": "code",
      "source": [
        "A,B = input().split()\n",
        "print(int(A)/int(B))"
      ],
      "metadata": {
        "id": "hnMIT54VmNpm"
      },
      "execution_count": null,
      "outputs": []
    },
    {
      "cell_type": "code",
      "source": [
        "A,B = input().split()\n",
        "print(int(A)+int(B))\n",
        "print(int(A)-int(B))\n",
        "print(int(A)*int(B))\n",
        "print(int(A)//int(B))\n",
        "print(int(A)%int(B))"
      ],
      "metadata": {
        "id": "AWgIoi88mfzk"
      },
      "execution_count": null,
      "outputs": []
    }
  ]
}