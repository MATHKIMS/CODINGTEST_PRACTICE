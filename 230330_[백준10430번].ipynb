{
  "nbformat": 4,
  "nbformat_minor": 0,
  "metadata": {
    "colab": {
      "provenance": [],
      "authorship_tag": "ABX9TyNORjiZkfi9Dz8Xuk/GAOyZ",
      "include_colab_link": true
    },
    "kernelspec": {
      "name": "python3",
      "display_name": "Python 3"
    },
    "language_info": {
      "name": "python"
    }
  },
  "cells": [
    {
      "cell_type": "markdown",
      "metadata": {
        "id": "view-in-github",
        "colab_type": "text"
      },
      "source": [
        "<a href=\"https://colab.research.google.com/github/MATHKIMS/CODINGTEST_PRACTICE/blob/main/230330_%5B%EB%B0%B1%EC%A4%8010430%EB%B2%88%5D.ipynb\" target=\"_parent\"><img src=\"https://colab.research.google.com/assets/colab-badge.svg\" alt=\"Open In Colab\"/></a>"
      ]
    },
    {
      "cell_type": "code",
      "execution_count": null,
      "metadata": {
        "id": "qJ50qlo2HQMU"
      },
      "outputs": [],
      "source": []
    },
    {
      "cell_type": "markdown",
      "source": [
        "[문제]10430번\n",
        "\n",
        "(A+B)%C는 ((A%C) + (B%C))%C 와 같을까?\n",
        "\n",
        "(A×B)%C는 ((A%C) × (B%C))%C 와 같을까?\n",
        "\n",
        "세 수 A, B, C가 주어졌을 때, 위의 네 가지 값을 구하는 프로그램을 작성하시오."
      ],
      "metadata": {
        "id": "zRTIOVoPHQv9"
      }
    },
    {
      "cell_type": "markdown",
      "source": [
        "*https://www.acmicpc.net/problem/10430*"
      ],
      "metadata": {
        "id": "OW7pOQ2BHS1E"
      }
    },
    {
      "cell_type": "markdown",
      "source": [
        "[입력]\n",
        "\n",
        "첫째 줄에 A, B, C가 순서대로 주어진다. (2 ≤ A, B, C ≤ 10000)\n",
        "\n",
        "[출력]\n",
        "\n",
        "첫째 줄에 (A+B)%C, 둘째 줄에 ((A%C) + (B%C))%C, 셋째 줄에 (A×B)%C, 넷째 줄에 ((A%C) × (B%C))%C를 출력한다."
      ],
      "metadata": {
        "id": "CXfigz8yHvMM"
      }
    },
    {
      "cell_type": "markdown",
      "source": [
        "[나의 풀이]"
      ],
      "metadata": {
        "id": "MPLbkA7QJ4tU"
      }
    },
    {
      "cell_type": "code",
      "source": [
        "A,B,C=input('A,B,C 입력').split()\n",
        "A=int(A)\n",
        "B=int(B)\n",
        "C=int(C)\n",
        "print((A+B)%C)\n",
        "print((A%C)+(B%C)%C)\n",
        "print((A*B)%C)\n",
        "print(((A%C)*(B%C))%C)"
      ],
      "metadata": {
        "colab": {
          "base_uri": "https://localhost:8080/"
        },
        "id": "nARQlLuXHR6U",
        "outputId": "5941774d-d17f-47a6-d0ff-391c35b79b79"
      },
      "execution_count": 11,
      "outputs": [
        {
          "output_type": "stream",
          "name": "stdout",
          "text": [
            "A,B,C 입력8 5 4\n",
            "1\n",
            "1\n",
            "0\n",
            "0\n"
          ]
        }
      ]
    },
    {
      "cell_type": "code",
      "source": [
        "a,b,c=input('A,B,C 입력').split()\n",
        "print(a,b,c)"
      ],
      "metadata": {
        "colab": {
          "base_uri": "https://localhost:8080/"
        },
        "id": "FNkYyVQXIYOs",
        "outputId": "5e65d005-7656-4b9a-9edc-f964c3922a8c"
      },
      "execution_count": 7,
      "outputs": [
        {
          "output_type": "stream",
          "name": "stdout",
          "text": [
            "A,B,C 입력3 4 5\n",
            "3 4 5\n"
          ]
        }
      ]
    },
    {
      "cell_type": "code",
      "source": [
        "A,B,C=input('A,B,C 입력').split()\n",
        "A=int(A)\n",
        "B=int(B)\n",
        "C=int(C)\n",
        "print((A+B)%C, ((A%C)+(B%C))%C, (A*B)%C, ((A%C)*(B%C))%C, sep='\\n')"
      ],
      "metadata": {
        "id": "8c-81R0zIjpM"
      },
      "execution_count": null,
      "outputs": []
    },
    {
      "cell_type": "markdown",
      "source": [
        "[정답 풀이]"
      ],
      "metadata": {
        "id": "iQLnAq9NJ24s"
      }
    },
    {
      "cell_type": "code",
      "source": [
        "A,B,C = map(int,input().split())\n",
        "print((A+B)%C, ((A%C)+(B%C))%C, (A*B)%C, ((A%C)*(B%C))%C, sep='\\n')"
      ],
      "metadata": {
        "id": "kXQPNMonJywF"
      },
      "execution_count": null,
      "outputs": []
    }
  ]
}