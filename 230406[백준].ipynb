{
  "nbformat": 4,
  "nbformat_minor": 0,
  "metadata": {
    "colab": {
      "provenance": [],
      "authorship_tag": "ABX9TyNBcptn4izKbRLZDWloLPq5",
      "include_colab_link": true
    },
    "kernelspec": {
      "name": "python3",
      "display_name": "Python 3"
    },
    "language_info": {
      "name": "python"
    }
  },
  "cells": [
    {
      "cell_type": "markdown",
      "metadata": {
        "id": "view-in-github",
        "colab_type": "text"
      },
      "source": [
        "<a href=\"https://colab.research.google.com/github/MATHKIMS/CODINGTEST_PRACTICE/blob/main/230406%5B%EB%B0%B1%EC%A4%80%5D.ipynb\" target=\"_parent\"><img src=\"https://colab.research.google.com/assets/colab-badge.svg\" alt=\"Open In Colab\"/></a>"
      ]
    },
    {
      "cell_type": "markdown",
      "source": [
        "# [문제]"
      ],
      "metadata": {
        "id": "bEjNkhmbm_Eg"
      }
    },
    {
      "cell_type": "markdown",
      "source": [
        "(세 자리 수) × (세 자리 수)는 다음과 같은 과정을 통하여 이루어진다\n",
        "\n",
        "\n",
        ".\n",
        "![image.png](data:image/png;base64,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)\n",
        "\n",
        "\n",
        "\n",
        "(1)과 (2)위치에 들어갈 세 자리 자연수가 주어질 때 (3), (4), (5), (6)위치에 들어갈 값을 구하는 프로그램을 작성하시오."
      ],
      "metadata": {
        "id": "rP7xliY8muWz"
      }
    },
    {
      "cell_type": "markdown",
      "source": [
        "[입력]\n",
        "첫째 줄에 (1)의 위치에 들어갈 세 자리 자연수가, 둘째 줄에 (2)의 위치에 들어갈 세자리 자연수가 주어진다."
      ],
      "metadata": {
        "id": "pX90g850nRxX"
      }
    },
    {
      "cell_type": "code",
      "source": [
        "A = int(input())\n",
        "\n",
        "B = input()\n",
        "\n",
        " \n",
        "\n",
        "for i in range(3, 0, -1) :\n",
        "\n",
        "    print(A * int(B[i - 1]))\n",
        "\n",
        " \n",
        "\n",
        "print(A * int(B))\n",
        "\n"
      ],
      "metadata": {
        "colab": {
          "base_uri": "https://localhost:8080/"
        },
        "id": "xhYy9bdVnRK3",
        "outputId": "eef119e8-e9b4-4651-d24b-7305e7e53677"
      },
      "execution_count": 1,
      "outputs": [
        {
          "output_type": "stream",
          "name": "stdout",
          "text": [
            "472\n",
            "385\n",
            "2360\n",
            "3776\n",
            "1416\n",
            "181720\n"
          ]
        }
      ]
    },
    {
      "cell_type": "code",
      "source": [],
      "metadata": {
        "id": "G6xXUP6snhQa"
      },
      "execution_count": 1,
      "outputs": []
    }
  ]
}