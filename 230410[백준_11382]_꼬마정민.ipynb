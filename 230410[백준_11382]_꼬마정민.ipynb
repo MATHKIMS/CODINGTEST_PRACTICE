{
  "nbformat": 4,
  "nbformat_minor": 0,
  "metadata": {
    "colab": {
      "provenance": [],
      "authorship_tag": "ABX9TyMEVyhM9GsaPqWm5CRJ/efl",
      "include_colab_link": true
    },
    "kernelspec": {
      "name": "python3",
      "display_name": "Python 3"
    },
    "language_info": {
      "name": "python"
    }
  },
  "cells": [
    {
      "cell_type": "markdown",
      "metadata": {
        "id": "view-in-github",
        "colab_type": "text"
      },
      "source": [
        "<a href=\"https://colab.research.google.com/github/MATHKIMS/CODINGTEST_PRACTICE/blob/main/230410%5B%EB%B0%B1%EC%A4%80_11382%5D_%EA%BC%AC%EB%A7%88%EC%A0%95%EB%AF%BC.ipynb\" target=\"_parent\"><img src=\"https://colab.research.google.com/assets/colab-badge.svg\" alt=\"Open In Colab\"/></a>"
      ]
    },
    {
      "cell_type": "code",
      "execution_count": null,
      "metadata": {
        "id": "WevAVIfQzFOt"
      },
      "outputs": [],
      "source": []
    },
    {
      "cell_type": "markdown",
      "source": [
        "꼬마 정민이는 이제 A + B 정도는 쉽게 계산할 수 있다. 이제 A + B + C를 계산할 차례이다!"
      ],
      "metadata": {
        "id": "4rCFNpFWzGCL"
      }
    },
    {
      "cell_type": "code",
      "source": [
        "A, B, C = map(int, input().split())\n",
        "print(A+B+C)"
      ],
      "metadata": {
        "colab": {
          "base_uri": "https://localhost:8080/"
        },
        "id": "y9MBoAdAzQKX",
        "outputId": "71f70365-61ba-4efe-c41b-7054e222422d"
      },
      "execution_count": 1,
      "outputs": [
        {
          "output_type": "stream",
          "name": "stdout",
          "text": [
            "7 77 7777\n",
            "7861\n"
          ]
        }
      ]
    },
    {
      "cell_type": "markdown",
      "source": [
        "**[입력]**\n",
        "\n",
        "첫 번째 줄에 A, B, C (1 ≤ A, B, C ≤ 1012)이 공백을 사이에 두고 주어진다."
      ],
      "metadata": {
        "id": "BYm45u0Lza9z"
      }
    },
    {
      "cell_type": "markdown",
      "source": [
        "**[출력]**\n",
        "\n",
        "A+B+C의 값을 출력한다."
      ],
      "metadata": {
        "id": "L6gLbwCGzkVr"
      }
    }
  ]
}