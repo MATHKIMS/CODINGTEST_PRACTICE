{
  "nbformat": 4,
  "nbformat_minor": 0,
  "metadata": {
    "colab": {
      "provenance": [],
      "authorship_tag": "ABX9TyM469rVh/EjAp38EhCQlLpN",
      "include_colab_link": true
    },
    "kernelspec": {
      "name": "python3",
      "display_name": "Python 3"
    },
    "language_info": {
      "name": "python"
    }
  },
  "cells": [
    {
      "cell_type": "markdown",
      "metadata": {
        "id": "view-in-github",
        "colab_type": "text"
      },
      "source": [
        "<a href=\"https://colab.research.google.com/github/MATHKIMS/CODINGTEST_PRACTICE/blob/main/%EC%9D%B4%EA%B2%83%EC%9D%B4_%EC%BD%94%EB%94%A9%ED%85%8C%EC%8A%A4%ED%8A%B8%EB%8B%A4_1%EC%9D%BC%EC%B0%A8.ipynb\" target=\"_parent\"><img src=\"https://colab.research.google.com/assets/colab-badge.svg\" alt=\"Open In Colab\"/></a>"
      ]
    },
    {
      "cell_type": "code",
      "execution_count": 1,
      "metadata": {
        "colab": {
          "base_uri": "https://localhost:8080/"
        },
        "id": "SW_Sewsb1XTT",
        "outputId": "019f69e7-bb02-4166-a613-d172dc5ac8c3"
      },
      "outputs": [
        {
          "output_type": "stream",
          "name": "stdout",
          "text": [
            "15\n"
          ]
        }
      ],
      "source": [
        "# 5개의 데이터( N = 5 )\n",
        "array = [1, 2, 3, 4, 5]\n",
        "# 합계를 저장 할 변수\n",
        "summary = 0\n",
        "\n",
        "# 모든 데이터를 하나씩 확인하며 합계를 계산\n",
        "for n in array:\n",
        "    summary += n\n",
        "\n",
        "print(summary)"
      ]
    },
    {
      "cell_type": "code",
      "source": [
        "a = 5\n",
        "b = 7\n",
        "print(a+b)"
      ],
      "metadata": {
        "colab": {
          "base_uri": "https://localhost:8080/"
        },
        "id": "P6ZxrctP1p9U",
        "outputId": "57051139-64b1-4d3d-e95a-a80ee6e8152b"
      },
      "execution_count": 2,
      "outputs": [
        {
          "output_type": "stream",
          "name": "stdout",
          "text": [
            "12\n"
          ]
        }
      ]
    },
    {
      "cell_type": "code",
      "source": [
        "array = [1, 2, 3, 4, 5]\n",
        "\n",
        "for i in array:\n",
        "    for j in array:\n",
        "        temp = i * j\n",
        "        print(temp)"
      ],
      "metadata": {
        "colab": {
          "base_uri": "https://localhost:8080/"
        },
        "id": "6MynJT1n1sKv",
        "outputId": "0145b001-0650-4466-f616-b530fb23b198"
      },
      "execution_count": 3,
      "outputs": [
        {
          "output_type": "stream",
          "name": "stdout",
          "text": [
            "1\n",
            "2\n",
            "3\n",
            "4\n",
            "5\n",
            "2\n",
            "4\n",
            "6\n",
            "8\n",
            "10\n",
            "3\n",
            "6\n",
            "9\n",
            "12\n",
            "15\n",
            "4\n",
            "8\n",
            "12\n",
            "16\n",
            "20\n",
            "5\n",
            "10\n",
            "15\n",
            "20\n",
            "25\n"
          ]
        }
      ]
    },
    {
      "cell_type": "code",
      "source": [
        "import time\n",
        "# 측정시작\n",
        "start_time = time.time()\n",
        "\n",
        "# 측정종료\n",
        "end_time = time.time()\n",
        "\n",
        "# 수행시간 출력\n",
        "print('time: ', end_time - start_time)"
      ],
      "metadata": {
        "colab": {
          "base_uri": "https://localhost:8080/"
        },
        "id": "YX5DRAwr13jt",
        "outputId": "476a2204-e601-44bd-f2a0-dcbcdf98ff69"
      },
      "execution_count": 4,
      "outputs": [
        {
          "output_type": "stream",
          "name": "stdout",
          "text": [
            "time:  5.1975250244140625e-05\n"
          ]
        }
      ]
    },
    {
      "cell_type": "code",
      "source": [
        "from random import randint\n",
        "import time\n",
        "\n",
        "array = []\n",
        "for _ in range(10000):\n",
        "    array.append(randint(1, 100))\n",
        "\n",
        "start_time = time.time()\n",
        "\n",
        "for i in range(len(array)):\n",
        "    min_index = i\n",
        "    for j in range(i+1, len(array)):\n",
        "        if array[min_index > array[j]]:\n",
        "            min_index = j\n",
        "\n",
        "    array[i], array[min_index] = array[min_index], array[i]\n",
        "\n",
        "end_time = time.time()\n",
        "print('선택 정렬 시간측정:', end_time - start_time)\n",
        "\n",
        "sort_start_time = time.time()\n",
        "\n",
        "array.sort()\n",
        "\n",
        "sort_end_time = time.time()\n",
        "\n",
        "print(\"sort 시간:\", sort_end_time - sort_start_time)"
      ],
      "metadata": {
        "colab": {
          "base_uri": "https://localhost:8080/"
        },
        "id": "08ooa0mJ17en",
        "outputId": "fee8133b-8dd5-4cad-d127-58d47a1d42ad"
      },
      "execution_count": 5,
      "outputs": [
        {
          "output_type": "stream",
          "name": "stdout",
          "text": [
            "선택 정렬 시간측정: 10.096420526504517\n",
            "sort 시간: 0.0013651847839355469\n"
          ]
        }
      ]
    },
    {
      "cell_type": "markdown",
      "source": [
        "코딩 테스트는 가독성을 해치지 않는 선에서 최대한 복잡도가 낮게 프로그램을 작성해야 한다"
      ],
      "metadata": {
        "id": "rI0Mwk-62H04"
      }
    }
  ]
}