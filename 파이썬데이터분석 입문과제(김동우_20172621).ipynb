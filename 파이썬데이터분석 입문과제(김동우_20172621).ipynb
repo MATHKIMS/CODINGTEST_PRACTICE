{
  "nbformat": 4,
  "nbformat_minor": 0,
  "metadata": {
    "colab": {
      "provenance": [],
      "authorship_tag": "ABX9TyPWbC/EAYyH4Q3x+qFNXWkx",
      "include_colab_link": true
    },
    "kernelspec": {
      "name": "python3",
      "display_name": "Python 3"
    },
    "language_info": {
      "name": "python"
    }
  },
  "cells": [
    {
      "cell_type": "markdown",
      "metadata": {
        "id": "view-in-github",
        "colab_type": "text"
      },
      "source": [
        "<a href=\"https://colab.research.google.com/github/MATHKIMS/CODINGTEST_PRACTICE/blob/main/%ED%8C%8C%EC%9D%B4%EC%8D%AC%EB%8D%B0%EC%9D%B4%ED%84%B0%EB%B6%84%EC%84%9D%20%EC%9E%85%EB%AC%B8%EA%B3%BC%EC%A0%9C(%EA%B9%80%EB%8F%99%EC%9A%B0_20172621).ipynb\" target=\"_parent\"><img src=\"https://colab.research.google.com/assets/colab-badge.svg\" alt=\"Open In Colab\"/></a>"
      ]
    },
    {
      "cell_type": "markdown",
      "source": [
        "#문제1.\n",
        "프로그램 사용자로부터 '단'을 입력받아서 해당 단을 출력하는 구구단 프로그램을 작성해 보세요.\n",
        "\n",
        "즉, 사용자가 2를 입력하면 2단을 수행해주고, 9를 입력하면 9단을 수행해주는 것이지요.\n",
        "\n",
        "그러다가 e가 입력되면? 프로그램을 종료합니다."
      ],
      "metadata": {
        "id": "9FmnQ5Zf9kpQ"
      }
    },
    {
      "cell_type": "code",
      "source": [
        "try:\n",
        "    dan=int(input('단을 입력하세요 예시: 2단이면 2만 입력'))\n",
        "    L=[]\n",
        "    L.append(dan)\n",
        "    for i in L:\n",
        "        print('[%d단]'%i)\n",
        "        for j in range(1,10):\n",
        "            print(f'{i}X{j}','=',i*j)\n",
        "except:\n",
        "    print('프로그램 종료')"
      ],
      "metadata": {
        "colab": {
          "base_uri": "https://localhost:8080/"
        },
        "id": "mxlqieIz9pBY",
        "outputId": "bd5500ee-b0c2-43a6-cf36-5d7b0cecb671"
      },
      "execution_count": null,
      "outputs": [
        {
          "output_type": "stream",
          "name": "stdout",
          "text": [
            "단을 입력하세요 예시: 2단이면 2만 입력359\n",
            "[359단]\n",
            "359X1 = 359\n",
            "359X2 = 718\n",
            "359X3 = 1077\n",
            "359X4 = 1436\n",
            "359X5 = 1795\n",
            "359X6 = 2154\n",
            "359X7 = 2513\n",
            "359X8 = 2872\n",
            "359X9 = 3231\n"
          ]
        }
      ]
    },
    {
      "cell_type": "markdown",
      "source": [
        " # 문제2. 3-6-9게임\n",
        "\n",
        "숫자는 1~10까지로 반복문을 통해서 표현하고,\n",
        "3 또는 6 또는 9가 나오면 박수!를 출력하고\n",
        "\n",
        "그 외에는 해당 숫자를 말하면 됩니다."
      ],
      "metadata": {
        "id": "JDX3n4H-LR4c"
      }
    },
    {
      "cell_type": "code",
      "source": [
        "print('3-6-9 게임!')\n",
        "for i in range(1,11):\n",
        "    if i%3==0:\n",
        "        i='박수'\n",
        "        print(f'{i}')\n",
        "    else:\n",
        "        print(i)"
      ],
      "metadata": {
        "id": "7rP8W1Zm9pF3",
        "colab": {
          "base_uri": "https://localhost:8080/"
        },
        "outputId": "9ff79cb4-4c94-49a8-c79b-cbfdb31c8939"
      },
      "execution_count": null,
      "outputs": [
        {
          "output_type": "stream",
          "name": "stdout",
          "text": [
            "3-6-9 게임!\n",
            "1\n",
            "2\n",
            "박수\n",
            "4\n",
            "5\n",
            "박수\n",
            "7\n",
            "8\n",
            "박수\n",
            "10\n"
          ]
        }
      ]
    },
    {
      "cell_type": "markdown",
      "source": [
        "#문제 3\n",
        "1) '파이썬생활프로그래밍\" 교재에서 유용하게 쓰이는 패키지 4개 조사하기 \n",
        "\n",
        "2) from 패키지 import함수명 사용시 장점"
      ],
      "metadata": {
        "id": "ZvjQlJpydWNa"
      }
    },
    {
      "cell_type": "markdown",
      "source": [
        "1) \n",
        "\n",
        "requests: 웹 페이지에 HTTP 요청을 보내고 응답을 받는 데 사용되는 패키지. \n",
        "HTML 페이지에서 정보를 추출기능이 있다.  \n",
        "\n",
        "Beautiful Soup: 웹 페이지에서 HTML 및 XML 파일에서 데이터를 추출하는 데 사용되는 패키지. \n",
        "HTML 문서를 파싱하여 특정 요소를 검색하고, 필요한 데이터를 추출하거나 변경하는 데 사용할 수 있다.\n",
        "\n",
        "\n",
        "\n",
        "numpy: 수치 계산을 위한 패키지. 선형대수, 통계분석 등의 수학을 쉽게 이용할 수 있다.\n",
        "\n",
        "\n",
        "\n",
        "pandas: 데이터 분석을 위한 패키지. 데이터 프레임 형태로 데이터를 다루기 쉽게 만들어 주며, 데이터 처리 및 분석 작업에 유용함.\n",
        " 많은 양의 데이터를 불러와서 처리하고, 데이터 분석 결과를 시각화가 가능함\n",
        "\n",
        "\n",
        "\n",
        "matplotlib: 데이터 시각화를 위한 패키지. 선 그래프, 막대 그래프, 산점도, 히스토그램 등 다양한 그래프를 그릴 수 있으며, 그래프의 스타일, 레이블, 범례 등을 다룰 수 있다."
      ],
      "metadata": {
        "id": "onH0BGEid44I"
      }
    },
    {
      "cell_type": "markdown",
      "source": [
        "2)\n",
        "\n",
        "가독성: import from 사용하여 함수를 가져올 때 이용 중인 함수가 명확하고 코드를 이해하기 쉬워짐.\n",
        "\n",
        "성능개선: 필요한 함수만 가져오면 전체 패키지를 로드할 필요가 없어지므로 코드 실행 속도가 빨라지고 메모리 사용량이 줄어들어 성능이 개선된다.\n",
        "\n",
        "코드 유지보수: 코드를 수정하지 않으면서 패키지 및 사용 중인 함수를 쉽게 바꿀 수 있다."
      ],
      "metadata": {
        "id": "4c2kDBdHelb_"
      }
    },
    {
      "cell_type": "code",
      "source": [],
      "metadata": {
        "id": "knyOBOdCdsNy"
      },
      "execution_count": null,
      "outputs": []
    }
  ]
}